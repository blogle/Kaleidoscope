{
 "metadata": {
  "name": ""
 },
 "nbformat": 3,
 "nbformat_minor": 0,
 "worksheets": [
  {
   "cells": [
    {
     "cell_type": "code",
     "collapsed": false,
     "input": [
      "import SimpleCV as scv\n",
      "from PIL import Image, ImageDraw, ImageOps"
     ],
     "language": "python",
     "metadata": {},
     "outputs": [],
     "prompt_number": 1
    },
    {
     "cell_type": "heading",
     "level": 1,
     "metadata": {},
     "source": [
      "Converts the video source to frames and saves to input"
     ]
    },
    {
     "cell_type": "code",
     "collapsed": false,
     "input": [
      "video = scv.VirtualCamera('source/DSC_0700.MOV', 'video')\n",
      "display = scv.Display()\n",
      "n = 0\n",
      "while display.isNotDone():\n",
      "    img = video.getImage()\n",
      "    if img.getBitmap() == '': \n",
      "        display.done = True\n",
      "    else:\n",
      "        img.save('input/frame{}.png'.format(n))\n",
      "    n += 1\n",
      "\n",
      "display.quit()    "
     ],
     "language": "python",
     "metadata": {},
     "outputs": [],
     "prompt_number": 2
    },
    {
     "cell_type": "heading",
     "level": 1,
     "metadata": {},
     "source": [
      "These are the image filter functions used in the main work loop below"
     ]
    },
    {
     "cell_type": "code",
     "collapsed": false,
     "input": [
      "def makesquare(img):\n",
      "    c = min(img.size)\n",
      "    img = img.crop((0,0,c,c))\n",
      "\n",
      "    return img\n",
      "\n",
      "def maketriangle(img):\n",
      "    w, h = img.size\n",
      "    \n",
      "    #first mask\n",
      "    mask = Image.new('L', (w, h), color=255)\n",
      "    draw = ImageDraw.Draw(mask)\n",
      "\n",
      "    triangles = [(0,h), (w/2, h/4), (w,h), (w,0), (0,0)]\n",
      "\n",
      "    draw.polygon(triangles, fill=0)\n",
      "    img.putalpha(mask)\n",
      "    img = img.crop((0, h/4, w, w))\n",
      "\n",
      "    return img\n",
      "\n",
      "def kaleidoscope(img):\n",
      "    \n",
      "    w, h = img.size\n",
      "    new_size = (w*2, h * 2)\n",
      "    w, h = new_size\n",
      "    canvas = Image.new(\"RGB\", new_size, color='black')\n",
      "    \n",
      "    # bottom triangle\n",
      "    canvas.paste(img, (w/4,h/2), img)\n",
      "   \n",
      "    img = ImageOps.mirror(img)\n",
      "    canvas = canvas.rotate(60)\n",
      "    canvas.paste(img, (w/4,h/2), img)\n",
      "    \n",
      "    img = ImageOps.mirror(img)\n",
      "    canvas = canvas.rotate(60)\n",
      "    canvas.paste(img, (w/4,h/2), img)\n",
      "    \n",
      "    img = ImageOps.mirror(img)\n",
      "    canvas = canvas.rotate(60)\n",
      "    canvas.paste(img, (w/4,h/2), img)\n",
      "    \n",
      "    img = ImageOps.mirror(img)\n",
      "    canvas = canvas.rotate(60)\n",
      "    canvas.paste(img, (w/4,h/2), img)\n",
      "    \n",
      "    img = ImageOps.mirror(img)\n",
      "    canvas = canvas.rotate(60)\n",
      "    canvas.paste(img, (w/4,h/2), img)\n",
      "    \n",
      "    return canvas\n",
      "    \n",
      "def makehexagon(img):\n",
      "    w, h = img.size\n",
      "    \n",
      "    #first mask\n",
      "    mask = Image.new('L', (w, h), color=255)\n",
      "    hexagon = Image.open('mask.png')\n",
      "    hexagon = hexagon.resize(img.size)\n",
      "    mask.paste(hexagon, (0,0), hexagon)\n",
      "    mask = mask.resize(img.size)\n",
      "    mask = mask.convert('L')\n",
      "\n",
      "    img.putalpha(mask)\n",
      "    img = img.crop((int(w/4.8), int(h/6), int(w - w/4.5), int(h - h/5)))\n",
      "\n",
      "    return img\n",
      "\n",
      "def mirrors(img):\n",
      "    w, h = img.size\n",
      "    canvas = Image.new('RGB', (w*2, h*2), color=255)\n",
      "    canvas = makesquare(canvas)\n",
      "    w, h = canvas.size\n",
      "    \n",
      "    \n",
      "    # center\n",
      "    canvas.paste(img, (w/4, h/4), img)\n",
      "    \n",
      "    # bottom left\n",
      "    img = ImageOps.flip(img)\n",
      "    canvas.paste(img, (-w/4 + 62, int(h/2) + 15), img)\n",
      "    \n",
      "    # bottom right\n",
      "    img = ImageOps.flip(img)\n",
      "    canvas.paste(img, (w-w/4 - 75, int(h/2) + 5), img)\n",
      "    \n",
      "    #bottom center\n",
      "    img = ImageOps.flip(img)\n",
      "    canvas.paste(img, (w/4, h - h/4), img)\n",
      "    \n",
      "    # top center\n",
      "    canvas.paste(img, (w/4, - (h/4 - 10)), img)\n",
      "    \n",
      "    \n",
      "    #top left\n",
      "    img = ImageOps.flip(img)\n",
      "    canvas.paste(img, (-w/4 + 76, 15), img)\n",
      "    \n",
      "    # top right\n",
      "    img = ImageOps.flip(img)\n",
      "    canvas.paste(img, (int(w-w/4 - 77.5), 16), img)\n",
      "    \n",
      "    \n",
      "    canvas = canvas.crop((0,int(h/3.5),w,h-10))\n",
      "    \n",
      "    return canvas\n"
     ],
     "language": "python",
     "metadata": {},
     "outputs": [],
     "prompt_number": 3
    },
    {
     "cell_type": "heading",
     "level": 1,
     "metadata": {},
     "source": [
      "Iterates through each frame in the input folder, crops into a square, applies mask to create an equalateral triangle, then copies and mirrors into a hexagon, this is then mirrored or fliped around the canvas and finally the image is saved to output"
     ]
    },
    {
     "cell_type": "code",
     "collapsed": false,
     "input": [
      "if n not in locals():\n",
      "    n = 1502\n",
      "for x in xrange(n):\n",
      "    img = Image.open('input/frame{num}.png'.format(num = x))\n",
      "    img = makesquare(img)\n",
      "    img = maketriangle(img)\n",
      "    img = kaleidoscope(img)\n",
      "    img = makehexagon(img)\n",
      "    img = mirrors(img)\n",
      "    img.save('output/frame{num}.png'.format(num = x))"
     ],
     "language": "python",
     "metadata": {},
     "outputs": [
      {
       "ename": "KeyboardInterrupt",
       "evalue": "",
       "output_type": "pyerr",
       "traceback": [
        "\u001b[0;31m---------------------------------------------------------------------------\u001b[0m\n\u001b[0;31mKeyboardInterrupt\u001b[0m                         Traceback (most recent call last)",
        "\u001b[0;32m<ipython-input-8-eb8a9e135f77>\u001b[0m in \u001b[0;36m<module>\u001b[0;34m()\u001b[0m\n\u001b[1;32m      8\u001b[0m     \u001b[0mimg\u001b[0m \u001b[0;34m=\u001b[0m \u001b[0mmakehexagon\u001b[0m\u001b[0;34m(\u001b[0m\u001b[0mimg\u001b[0m\u001b[0;34m)\u001b[0m\u001b[0;34m\u001b[0m\u001b[0m\n\u001b[1;32m      9\u001b[0m     \u001b[0mimg\u001b[0m \u001b[0;34m=\u001b[0m \u001b[0mmirrors\u001b[0m\u001b[0;34m(\u001b[0m\u001b[0mimg\u001b[0m\u001b[0;34m)\u001b[0m\u001b[0;34m\u001b[0m\u001b[0m\n\u001b[0;32m---> 10\u001b[0;31m     \u001b[0mimg\u001b[0m\u001b[0;34m.\u001b[0m\u001b[0msave\u001b[0m\u001b[0;34m(\u001b[0m\u001b[0;34m'output/frame{num}.png'\u001b[0m\u001b[0;34m.\u001b[0m\u001b[0mformat\u001b[0m\u001b[0;34m(\u001b[0m\u001b[0mnum\u001b[0m \u001b[0;34m=\u001b[0m \u001b[0mx\u001b[0m\u001b[0;34m)\u001b[0m\u001b[0;34m)\u001b[0m\u001b[0;34m\u001b[0m\u001b[0m\n\u001b[0m",
        "\u001b[0;32m/Users/oglebrandon/anaconda/lib/python2.7/site-packages/PIL/Image.pyc\u001b[0m in \u001b[0;36msave\u001b[0;34m(self, fp, format, **params)\u001b[0m\n\u001b[1;32m   1450\u001b[0m \u001b[0;34m\u001b[0m\u001b[0m\n\u001b[1;32m   1451\u001b[0m         \u001b[0;32mtry\u001b[0m\u001b[0;34m:\u001b[0m\u001b[0;34m\u001b[0m\u001b[0m\n\u001b[0;32m-> 1452\u001b[0;31m             \u001b[0msave_handler\u001b[0m\u001b[0;34m(\u001b[0m\u001b[0mself\u001b[0m\u001b[0;34m,\u001b[0m \u001b[0mfp\u001b[0m\u001b[0;34m,\u001b[0m \u001b[0mfilename\u001b[0m\u001b[0;34m)\u001b[0m\u001b[0;34m\u001b[0m\u001b[0m\n\u001b[0m\u001b[1;32m   1453\u001b[0m         \u001b[0;32mfinally\u001b[0m\u001b[0;34m:\u001b[0m\u001b[0;34m\u001b[0m\u001b[0m\n\u001b[1;32m   1454\u001b[0m             \u001b[0;31m# do what we can to clean up\u001b[0m\u001b[0;34m\u001b[0m\u001b[0;34m\u001b[0m\u001b[0m\n",
        "\u001b[0;32m/Users/oglebrandon/anaconda/lib/python2.7/site-packages/PIL/PngImagePlugin.pyc\u001b[0m in \u001b[0;36m_save\u001b[0;34m(im, fp, filename, chunk, check)\u001b[0m\n\u001b[1;32m    606\u001b[0m         \u001b[0mchunk\u001b[0m\u001b[0;34m(\u001b[0m\u001b[0mfp\u001b[0m\u001b[0;34m,\u001b[0m \u001b[0;34mb\"iCCP\"\u001b[0m\u001b[0;34m,\u001b[0m \u001b[0mdata\u001b[0m\u001b[0;34m)\u001b[0m\u001b[0;34m\u001b[0m\u001b[0m\n\u001b[1;32m    607\u001b[0m \u001b[0;34m\u001b[0m\u001b[0m\n\u001b[0;32m--> 608\u001b[0;31m     \u001b[0mImageFile\u001b[0m\u001b[0;34m.\u001b[0m\u001b[0m_save\u001b[0m\u001b[0;34m(\u001b[0m\u001b[0mim\u001b[0m\u001b[0;34m,\u001b[0m \u001b[0m_idat\u001b[0m\u001b[0;34m(\u001b[0m\u001b[0mfp\u001b[0m\u001b[0;34m,\u001b[0m \u001b[0mchunk\u001b[0m\u001b[0;34m)\u001b[0m\u001b[0;34m,\u001b[0m \u001b[0;34m[\u001b[0m\u001b[0;34m(\u001b[0m\u001b[0;34m\"zip\"\u001b[0m\u001b[0;34m,\u001b[0m \u001b[0;34m(\u001b[0m\u001b[0;36m0\u001b[0m\u001b[0;34m,\u001b[0m\u001b[0;36m0\u001b[0m\u001b[0;34m)\u001b[0m\u001b[0;34m+\u001b[0m\u001b[0mim\u001b[0m\u001b[0;34m.\u001b[0m\u001b[0msize\u001b[0m\u001b[0;34m,\u001b[0m \u001b[0;36m0\u001b[0m\u001b[0;34m,\u001b[0m \u001b[0mrawmode\u001b[0m\u001b[0;34m)\u001b[0m\u001b[0;34m]\u001b[0m\u001b[0;34m)\u001b[0m\u001b[0;34m\u001b[0m\u001b[0m\n\u001b[0m\u001b[1;32m    609\u001b[0m \u001b[0;34m\u001b[0m\u001b[0m\n\u001b[1;32m    610\u001b[0m     \u001b[0mchunk\u001b[0m\u001b[0;34m(\u001b[0m\u001b[0mfp\u001b[0m\u001b[0;34m,\u001b[0m \u001b[0;34mb\"IEND\"\u001b[0m\u001b[0;34m,\u001b[0m \u001b[0;34mb\"\"\u001b[0m\u001b[0;34m)\u001b[0m\u001b[0;34m\u001b[0m\u001b[0m\n",
        "\u001b[0;32m/Users/oglebrandon/anaconda/lib/python2.7/site-packages/PIL/ImageFile.pyc\u001b[0m in \u001b[0;36m_save\u001b[0;34m(im, fp, tile, bufsize)\u001b[0m\n\u001b[1;32m    464\u001b[0m             \u001b[0me\u001b[0m\u001b[0;34m.\u001b[0m\u001b[0msetimage\u001b[0m\u001b[0;34m(\u001b[0m\u001b[0mim\u001b[0m\u001b[0;34m.\u001b[0m\u001b[0mim\u001b[0m\u001b[0;34m,\u001b[0m \u001b[0mb\u001b[0m\u001b[0;34m)\u001b[0m\u001b[0;34m\u001b[0m\u001b[0m\n\u001b[1;32m    465\u001b[0m             \u001b[0;32mwhile\u001b[0m \u001b[0mTrue\u001b[0m\u001b[0;34m:\u001b[0m\u001b[0;34m\u001b[0m\u001b[0m\n\u001b[0;32m--> 466\u001b[0;31m                 \u001b[0ml\u001b[0m\u001b[0;34m,\u001b[0m \u001b[0ms\u001b[0m\u001b[0;34m,\u001b[0m \u001b[0md\u001b[0m \u001b[0;34m=\u001b[0m \u001b[0me\u001b[0m\u001b[0;34m.\u001b[0m\u001b[0mencode\u001b[0m\u001b[0;34m(\u001b[0m\u001b[0mbufsize\u001b[0m\u001b[0;34m)\u001b[0m\u001b[0;34m\u001b[0m\u001b[0m\n\u001b[0m\u001b[1;32m    467\u001b[0m                 \u001b[0mfp\u001b[0m\u001b[0;34m.\u001b[0m\u001b[0mwrite\u001b[0m\u001b[0;34m(\u001b[0m\u001b[0md\u001b[0m\u001b[0;34m)\u001b[0m\u001b[0;34m\u001b[0m\u001b[0m\n\u001b[1;32m    468\u001b[0m                 \u001b[0;32mif\u001b[0m \u001b[0ms\u001b[0m\u001b[0;34m:\u001b[0m\u001b[0;34m\u001b[0m\u001b[0m\n",
        "\u001b[0;31mKeyboardInterrupt\u001b[0m: "
       ]
      }
     ],
     "prompt_number": 8
    },
    {
     "cell_type": "code",
     "collapsed": false,
     "input": [],
     "language": "python",
     "metadata": {},
     "outputs": []
    }
   ],
   "metadata": {}
  }
 ]
}